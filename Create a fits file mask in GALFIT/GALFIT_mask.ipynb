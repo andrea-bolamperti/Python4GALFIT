{
 "cells": [
  {
   "cell_type": "markdown",
   "metadata": {},
   "source": [
    "# Creation of the GALFIT mask in *.fits* format   (with the WCS coordinates of the data image)\n",
    "### i.e. pixels to be ignored during the fit"
   ]
  },
  {
   "cell_type": "code",
   "execution_count": null,
   "metadata": {},
   "outputs": [],
   "source": [
    "import numpy as np\n",
    "import matplotlib.pyplot as plt\n",
    "from astropy.io import fits\n",
    "from astropy.wcs import WCS\n",
    "from astropy.io import fits\n",
    "from astropy.nddata.utils import Cutout2D\n",
    "from astropy.coordinates import SkyCoord"
   ]
  },
  {
   "cell_type": "markdown",
   "metadata": {},
   "source": [
    "Steps 1-5 are taken from the tutorial on GALFIT's website: https://users.obs.carnegiescience.edu/peng/work/galfit/MASKING.html  .  \n",
    "In particular the scripts `ds9poly` and `fillpoly` used in the following steps, and included in this folder, are taken from this guide.\n",
    "\n",
    "1) Using ds9 (https://sites.google.com/cfa.harvard.edu/saoimageds9), choose a polygonal region, then save it. The format must be *ds9*, coordinates *image*. Save it with a name as *ds9out*, without the extension. It will be useful later in the situation in which one wants to mask more regions not connected. These regions has to be taken one at a time and save them with, for example, *ds9out1*,*ds9out2*, ...   \n",
    "Don't worry if the region goes outside the image: the outer points will be cut in the following steps (step 7).  \n",
    "        \n",
    "2) Execute `./ds9poly ds9out > vertices`. If there are more regions, you will have *vertices1*, *vertices2*, ... \n",
    "\n",
    "3) Execute `./fillpoly vertices mask.txt`. If there are more regions, you will have *mask1.txt*, *mask2.txt*, ... \n",
    "\n",
    "4) If there are more regions, and there are *mask1.txt*, *mask2.txt*, ..., merge all them together in a single text file with `cat *.txt > mask` .\n",
    "\n",
    "5) The file `mask` contains the coordinates $(x,y)$ of the pixels to be ignored during the fit. \n",
    "\n",
    "The next two mirrors allow to see the region, by plotting the coordinates from the text file.\n",
    "\n",
    "------\n",
    "\n",
    "6) In order to convert the text file into a *.fits* file, you can usa the last mirror. The bad pixels of the mask have a value $>0$ (I put them $=1$) and the good pixels have value $=0$. \n",
    "The mask will have the WCS coordinates of the data image (very useful to match frames in ds9, for example...)\n",
    "\n",
    "7) In the second part of the last mirror, the mask has been cropped, to have the same dimension of the data image."
   ]
  },
  {
   "cell_type": "code",
   "execution_count": null,
   "metadata": {},
   "outputs": [],
   "source": [
    "#read the `mask` file and save the coordinates of the bad pixels\n",
    "x, y = np.loadtxt('mask', dtype='int', unpack=True)\n",
    "\n",
    "#open the image of the data. It is important if you want the mask to have the right WCS coordinates\n",
    "hdu = fits.open('image_data.fits')[0]\n",
    "header = hdu.header\n",
    "wcs = WCS(hdu.header)"
   ]
  },
  {
   "cell_type": "code",
   "execution_count": null,
   "metadata": {},
   "outputs": [],
   "source": [
    "#if you want to plot the mask superimposed to the data image to check it\n",
    "plt.figure(figsize=(13,6))\n",
    "plt.subplot(121, projection=wcs)\n",
    "plt.imshow(hdu.data, cmap='gray')\n",
    "plt.xlabel('Right Ascension')\n",
    "plt.ylabel('declination')\n",
    "\n",
    "plt.subplot(122, projection=wcs)\n",
    "plt.imshow(hdu.data, cmap='gray')\n",
    "plt.scatter(x,y)\n",
    "plt.xlim(0,hdu.data.shape[0])\n",
    "plt.ylim(0,hdu.data.shape[1])\n",
    "plt.xlabel('Right Ascension')\n",
    "plt.ylabel(' ')\n",
    "\n",
    "plt.savefig('data&mask.jpg') #save the plot\n",
    "plt.show()"
   ]
  },
  {
   "cell_type": "code",
   "execution_count": null,
   "metadata": {},
   "outputs": [],
   "source": [
    "# the new fits image\n",
    "new = np.zeros((max(y),max(x))) \n",
    "\n",
    "# put the bad pixels with a value >0\n",
    "for i in range(len(x)):\n",
    "    new[y[i]-1][x[i]-1] = 1\n",
    "\n",
    "#create the fits file with the header of the data image\n",
    "mask = fits.PrimaryHDU(new, header) \n",
    "\n",
    "#cropping it the same dimension of the image\n",
    "# Make the cutout, including the WCS\n",
    "position = SkyCoord(177.3937308, 22.40132616, unit=\"deg\", frame=\"fk5\") #center of the crop. Here I crop with the SkyCoord RA and dec\n",
    "xbox, ybox = hdu.data.shape\n",
    "cutout = Cutout2D(mask.data, position , (xbox, ybox), wcs=wcs)\n",
    "\n",
    "# Put the cutout image in the FITS HDU\n",
    "mask.data = cutout.data\n",
    "\n",
    "# Update the FITS header with the cutout WCS\n",
    "mask.header.update(cutout.wcs.to_header())\n",
    "\n",
    "# Write the cutout to a new FITS file\n",
    "mask.writeto('mask.fits', overwrite=True)"
   ]
  }
 ],
 "metadata": {
  "kernelspec": {
   "display_name": "Python 3",
   "language": "python",
   "name": "python3"
  },
  "language_info": {
   "codemirror_mode": {
    "name": "ipython",
    "version": 3
   },
   "file_extension": ".py",
   "mimetype": "text/x-python",
   "name": "python",
   "nbconvert_exporter": "python",
   "pygments_lexer": "ipython3",
   "version": "3.7.6"
  }
 },
 "nbformat": 4,
 "nbformat_minor": 4
}
