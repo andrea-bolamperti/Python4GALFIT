{
 "cells": [
  {
   "cell_type": "markdown",
   "metadata": {},
   "source": [
    "# Cumulative luminosity profile from a *.fits* file"
   ]
  },
  {
   "cell_type": "markdown",
   "metadata": {},
   "source": [
    "I used this function to calculate the cumulative luminosity profile for a model obtained as an optimization of the best-fit parameters using the program GALFIT.  \n",
    "After reaching a good solution in the optimization phase, I choose to create the model with the parameters of the best-fit and, **not convolving with the PSF**, I started from this image to build the cumulative luminosity profile.  \n",
    "I used this profile to evalue the effective radius $R_e$, i.e. the radius at which half of the total luminosity is emitted."
   ]
  },
  {
   "cell_type": "markdown",
   "metadata": {},
   "source": [
    "I defined a function which takes as input:\n",
    "- the data of the *.fits* image:  \n",
    "`hdu = fits.open('image.fits')[0]`  \n",
    "    `img_data = hdu.data`\n",
    "    \n",
    "- the coordinates of the center $(x_0, y_0)$\n",
    "- the lower extreme of the interval on which one wants to calculate the profile (it usually starts from the center, i.e  `min_interval=0`)\n",
    "- the higher extreme of the interval on which one wants to calculate the profile. Be aware to not exceed the dimensions of the square image with the last radius. \n",
    "- the sampling step (in pixel) one wants to create the profile"
   ]
  },
  {
   "cell_type": "code",
   "execution_count": null,
   "metadata": {},
   "outputs": [],
   "source": [
    "def cumulative_profile(data, center, min_interval, max_interval, step):\n",
    "    number = int((max_interval- min_interval)/step +1) #numero di punti su cui valuto il profilo\n",
    "    x, y = np.indices((data.shape[0], data.shape[1]))\n",
    "    r = np.sqrt((x - center[0])**2 + (y - center[1])**2) #distanze dal centro\n",
    "    r[ (r == 0. ) ] = 0.01  # metto un valore basso ma diverso da 0 al centro\n",
    "    profile = np.zeros(len(np.linspace(min_interval, max_interval, number)))\n",
    "    j=0\n",
    "    for x in np.linspace(min_interval, max_interval, number):\n",
    "        summ = np.sum(data[ (r <= x ) ]) #sommo i contributi solo dei pixel che sono dentro il raggio x\n",
    "        profile[j]= summ    \n",
    "        j = j+1\n",
    "    return profile"
   ]
  },
  {
   "cell_type": "markdown",
   "metadata": {},
   "source": [
    "### An easy example:"
   ]
  },
  {
   "cell_type": "code",
   "execution_count": null,
   "metadata": {},
   "outputs": [],
   "source": [
    "from astropy.io import fits\n",
    "import numpy as np\n",
    "import matplotlib.pyplot as plt"
   ]
  },
  {
   "cell_type": "code",
   "execution_count": null,
   "metadata": {},
   "outputs": [],
   "source": [
    "#the parameters the user has to input\n",
    "center = (100, 100)\n",
    "min_interval, max_interval = 0. , 90.\n",
    "step = 0.5\n",
    "\n",
    "number = int((max_interval- min_interval)/step +1)\n",
    "x_axis = np.linspace(min_interval, max_interval, number)"
   ]
  },
  {
   "cell_type": "code",
   "execution_count": null,
   "metadata": {},
   "outputs": [],
   "source": [
    "#the image\n",
    "hdu = fits.open('image.fits')[0]\n",
    "img = hdu.data\n",
    "\n",
    "#calculation of the cumulative light profile\n",
    "cp = cumulative_profile(img1, center, min_interval, max_interval, step)\n",
    "\n",
    "#plot del profilo\n",
    "plt.figure(figsize=(10,5))\n",
    "plt.plot(x_axis, cp)      #the profile \n",
    "plt.hlines(np.sum(img), min_interval, max_interval,  linestyles='dashed' , label = 'Total light')\n",
    "plt.hlines(np.sum(img)*0.5 , min_interval, max_interval,  linestyles='solid' , label = 'Half light')\n",
    "plt.grid()\n",
    "plt.legend(loc='best')\n",
    "plt.show()"
   ]
  }
 ],
 "metadata": {
  "kernelspec": {
   "display_name": "Python 3",
   "language": "python",
   "name": "python3"
  },
  "language_info": {
   "codemirror_mode": {
    "name": "ipython",
    "version": 3
   },
   "file_extension": ".py",
   "mimetype": "text/x-python",
   "name": "python",
   "nbconvert_exporter": "python",
   "pygments_lexer": "ipython3",
   "version": "3.7.6"
  }
 },
 "nbformat": 4,
 "nbformat_minor": 4
}
