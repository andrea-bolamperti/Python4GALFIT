{
 "cells": [
  {
   "cell_type": "code",
   "execution_count": 1,
   "metadata": {},
   "outputs": [],
   "source": [
    "import numpy as np\n",
    "import matplotlib.pyplot as plt\n",
    "from astropy.io import fits\n",
    "from astropy.wcs import WCS\n",
    "from astropy.io import fits\n",
    "from astropy.nddata.utils import Cutout2D\n",
    "from astropy.coordinates import SkyCoord"
   ]
  },
  {
   "cell_type": "markdown",
   "metadata": {},
   "source": [
    "# Crop *.fits* files keeping the right WCS"
   ]
  },
  {
   "cell_type": "code",
   "execution_count": null,
   "metadata": {},
   "outputs": [],
   "source": [
    "#thanks to:\n",
    "# https://github.com/astropy/astropy/commit/d1f47d7087d4d244da6f5c56ad35069b4ca4300f\n",
    "\n",
    "path = 'path/'\n",
    "name = 'image'\n",
    "# Load the image and the WCS\n",
    "hdu = fits.open(path+name+'.fits')[0]\n",
    "wcs = WCS(hdu.header)\n",
    "\n",
    "# Make the cutout, including the WCS\n",
    "position = SkyCoord(177.3937308, 22.40132616, unit=\"deg\", frame=\"fk5\")\n",
    "xbox, ybox = 200., 200.\n",
    "cutout = Cutout2D(hdu.data, position , (xbox, ybox), wcs=wcs)\n",
    "\n",
    "# Put the cutout image in the FITS HDU\n",
    "hdu.data = cutout.data\n",
    "\n",
    "# Update the FITS header with the cutout WCS\n",
    "hdu.header.update(cutout.wcs.to_header())\n",
    "\n",
    "# Write the cutout to a new FITS file\n",
    "path_cropped_out= 'path_out/'\n",
    "cutout_filename = name+'_cut.fits'\n",
    "hdu.writeto(path_cropped_out+cutout_filename, overwrite=True)"
   ]
  },
  {
   "cell_type": "code",
   "execution_count": null,
   "metadata": {},
   "outputs": [],
   "source": [
    "#plot of the original and the cutted images\n",
    "hdu = fits.open(path+name+'.fits')[0]\n",
    "wcs = WCS(hdu.header)\n",
    "cut = fits.open(path_cropped_out+cutout_filename)[0]\n",
    "wcs2 = WCS(cut.header)\n",
    "\n",
    "plt.figure(figsize=(15,7))\n",
    "plt.suptitle('Cropped region', fontsize = 20)\n",
    "\n",
    "#The original image\n",
    "plt.subplot(1,3,1, projection=wcs)\n",
    "plt.imshow(hdu.data, cmap='gray',  vmin=0., vmax=0.08)\n",
    "cutout.plot_on_original(color='red')\n",
    "plt.xlabel('Right Ascension')\n",
    "plt.ylabel('declination')\n",
    "\n",
    "#zoom on the position of the cropped region\n",
    "plt.subplot(132, projection=wcs)\n",
    "plt.imshow(hdu.data, cmap='gray',  vmin=0., vmax=0.08)\n",
    "cutout.plot_on_original(color='red')\n",
    "plt.xlabel('Right Ascension')\n",
    "plt.ylabel('declination')\n",
    "plt.xlim(2000,3500)\n",
    "plt.ylim(2000,3500)\n",
    "\n",
    "#cropped region\n",
    "plt.subplot(133, projection=wcs2)\n",
    "plt.imshow(cut.data, cmap='gray',  vmin=0., vmax=0.08)\n",
    "plt.xlabel('Right Ascension')\n",
    "plt.ylabel('declination')\n",
    "\n",
    "#plt.savefig('crop_f814w.png', dpi=200)\n",
    "plt.show()"
   ]
  }
 ],
 "metadata": {
  "kernelspec": {
   "display_name": "Python 3",
   "language": "python",
   "name": "python3"
  },
  "language_info": {
   "codemirror_mode": {
    "name": "ipython",
    "version": 3
   },
   "file_extension": ".py",
   "mimetype": "text/x-python",
   "name": "python",
   "nbconvert_exporter": "python",
   "pygments_lexer": "ipython3",
   "version": "3.7.6"
  }
 },
 "nbformat": 4,
 "nbformat_minor": 4
}
